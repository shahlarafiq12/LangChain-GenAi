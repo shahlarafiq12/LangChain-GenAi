{
  "nbformat": 4,
  "nbformat_minor": 0,
  "metadata": {
    "colab": {
      "provenance": []
    },
    "kernelspec": {
      "name": "python3",
      "display_name": "Python 3"
    },
    "language_info": {
      "name": "python"
    }
  },
  "cells": [
    {
      "cell_type": "code",
      "execution_count": 10,
      "metadata": {
        "colab": {
          "base_uri": "https://localhost:8080/",
          "height": 1000
        },
        "collapsed": true,
        "id": "9-UiAtQFJk5z",
        "outputId": "24702e97-4f13-42d1-8b73-ff05e7e1688f"
      },
      "outputs": [
        {
          "output_type": "stream",
          "name": "stdout",
          "text": [
            "Collecting langchain-community\n",
            "  Downloading langchain_community-0.3.30-py3-none-any.whl.metadata (3.0 kB)\n",
            "Requirement already satisfied: langchain-core<2.0.0,>=0.3.75 in /usr/local/lib/python3.12/dist-packages (from langchain-community) (0.3.76)\n",
            "Requirement already satisfied: langchain<2.0.0,>=0.3.27 in /usr/local/lib/python3.12/dist-packages (from langchain-community) (0.3.27)\n",
            "Requirement already satisfied: SQLAlchemy<3.0.0,>=1.4.0 in /usr/local/lib/python3.12/dist-packages (from langchain-community) (2.0.43)\n",
            "Collecting requests<3.0.0,>=2.32.5 (from langchain-community)\n",
            "  Downloading requests-2.32.5-py3-none-any.whl.metadata (4.9 kB)\n",
            "Requirement already satisfied: PyYAML<7.0.0,>=5.3.0 in /usr/local/lib/python3.12/dist-packages (from langchain-community) (6.0.2)\n",
            "Requirement already satisfied: aiohttp<4.0.0,>=3.8.3 in /usr/local/lib/python3.12/dist-packages (from langchain-community) (3.12.15)\n",
            "Requirement already satisfied: tenacity!=8.4.0,<10.0.0,>=8.1.0 in /usr/local/lib/python3.12/dist-packages (from langchain-community) (8.5.0)\n",
            "Collecting dataclasses-json<0.7.0,>=0.6.7 (from langchain-community)\n",
            "  Downloading dataclasses_json-0.6.7-py3-none-any.whl.metadata (25 kB)\n",
            "Requirement already satisfied: pydantic-settings<3.0.0,>=2.10.1 in /usr/local/lib/python3.12/dist-packages (from langchain-community) (2.10.1)\n",
            "Requirement already satisfied: langsmith<1.0.0,>=0.1.125 in /usr/local/lib/python3.12/dist-packages (from langchain-community) (0.4.28)\n",
            "Requirement already satisfied: httpx-sse<1.0.0,>=0.4.0 in /usr/local/lib/python3.12/dist-packages (from langchain-community) (0.4.1)\n",
            "Requirement already satisfied: numpy>=1.26.2 in /usr/local/lib/python3.12/dist-packages (from langchain-community) (2.0.2)\n",
            "Requirement already satisfied: aiohappyeyeballs>=2.5.0 in /usr/local/lib/python3.12/dist-packages (from aiohttp<4.0.0,>=3.8.3->langchain-community) (2.6.1)\n",
            "Requirement already satisfied: aiosignal>=1.4.0 in /usr/local/lib/python3.12/dist-packages (from aiohttp<4.0.0,>=3.8.3->langchain-community) (1.4.0)\n",
            "Requirement already satisfied: attrs>=17.3.0 in /usr/local/lib/python3.12/dist-packages (from aiohttp<4.0.0,>=3.8.3->langchain-community) (25.3.0)\n",
            "Requirement already satisfied: frozenlist>=1.1.1 in /usr/local/lib/python3.12/dist-packages (from aiohttp<4.0.0,>=3.8.3->langchain-community) (1.7.0)\n",
            "Requirement already satisfied: multidict<7.0,>=4.5 in /usr/local/lib/python3.12/dist-packages (from aiohttp<4.0.0,>=3.8.3->langchain-community) (6.6.4)\n",
            "Requirement already satisfied: propcache>=0.2.0 in /usr/local/lib/python3.12/dist-packages (from aiohttp<4.0.0,>=3.8.3->langchain-community) (0.3.2)\n",
            "Requirement already satisfied: yarl<2.0,>=1.17.0 in /usr/local/lib/python3.12/dist-packages (from aiohttp<4.0.0,>=3.8.3->langchain-community) (1.20.1)\n",
            "Collecting marshmallow<4.0.0,>=3.18.0 (from dataclasses-json<0.7.0,>=0.6.7->langchain-community)\n",
            "  Downloading marshmallow-3.26.1-py3-none-any.whl.metadata (7.3 kB)\n",
            "Collecting typing-inspect<1,>=0.4.0 (from dataclasses-json<0.7.0,>=0.6.7->langchain-community)\n",
            "  Downloading typing_inspect-0.9.0-py3-none-any.whl.metadata (1.5 kB)\n",
            "Requirement already satisfied: langchain-text-splitters<1.0.0,>=0.3.9 in /usr/local/lib/python3.12/dist-packages (from langchain<2.0.0,>=0.3.27->langchain-community) (0.3.11)\n",
            "Requirement already satisfied: pydantic<3.0.0,>=2.7.4 in /usr/local/lib/python3.12/dist-packages (from langchain<2.0.0,>=0.3.27->langchain-community) (2.11.9)\n",
            "Requirement already satisfied: jsonpatch<2.0,>=1.33 in /usr/local/lib/python3.12/dist-packages (from langchain-core<2.0.0,>=0.3.75->langchain-community) (1.33)\n",
            "Requirement already satisfied: typing-extensions>=4.7 in /usr/local/lib/python3.12/dist-packages (from langchain-core<2.0.0,>=0.3.75->langchain-community) (4.15.0)\n",
            "Requirement already satisfied: packaging>=23.2 in /usr/local/lib/python3.12/dist-packages (from langchain-core<2.0.0,>=0.3.75->langchain-community) (25.0)\n",
            "Requirement already satisfied: httpx<1,>=0.23.0 in /usr/local/lib/python3.12/dist-packages (from langsmith<1.0.0,>=0.1.125->langchain-community) (0.28.1)\n",
            "Requirement already satisfied: orjson>=3.9.14 in /usr/local/lib/python3.12/dist-packages (from langsmith<1.0.0,>=0.1.125->langchain-community) (3.11.3)\n",
            "Requirement already satisfied: requests-toolbelt>=1.0.0 in /usr/local/lib/python3.12/dist-packages (from langsmith<1.0.0,>=0.1.125->langchain-community) (1.0.0)\n",
            "Requirement already satisfied: zstandard>=0.23.0 in /usr/local/lib/python3.12/dist-packages (from langsmith<1.0.0,>=0.1.125->langchain-community) (0.25.0)\n",
            "Requirement already satisfied: python-dotenv>=0.21.0 in /usr/local/lib/python3.12/dist-packages (from pydantic-settings<3.0.0,>=2.10.1->langchain-community) (1.1.1)\n",
            "Requirement already satisfied: typing-inspection>=0.4.0 in /usr/local/lib/python3.12/dist-packages (from pydantic-settings<3.0.0,>=2.10.1->langchain-community) (0.4.1)\n",
            "Requirement already satisfied: charset_normalizer<4,>=2 in /usr/local/lib/python3.12/dist-packages (from requests<3.0.0,>=2.32.5->langchain-community) (3.4.3)\n",
            "Requirement already satisfied: idna<4,>=2.5 in /usr/local/lib/python3.12/dist-packages (from requests<3.0.0,>=2.32.5->langchain-community) (3.10)\n",
            "Requirement already satisfied: urllib3<3,>=1.21.1 in /usr/local/lib/python3.12/dist-packages (from requests<3.0.0,>=2.32.5->langchain-community) (2.5.0)\n",
            "Requirement already satisfied: certifi>=2017.4.17 in /usr/local/lib/python3.12/dist-packages (from requests<3.0.0,>=2.32.5->langchain-community) (2025.8.3)\n",
            "Requirement already satisfied: greenlet>=1 in /usr/local/lib/python3.12/dist-packages (from SQLAlchemy<3.0.0,>=1.4.0->langchain-community) (3.2.4)\n",
            "Requirement already satisfied: anyio in /usr/local/lib/python3.12/dist-packages (from httpx<1,>=0.23.0->langsmith<1.0.0,>=0.1.125->langchain-community) (4.10.0)\n",
            "Requirement already satisfied: httpcore==1.* in /usr/local/lib/python3.12/dist-packages (from httpx<1,>=0.23.0->langsmith<1.0.0,>=0.1.125->langchain-community) (1.0.9)\n",
            "Requirement already satisfied: h11>=0.16 in /usr/local/lib/python3.12/dist-packages (from httpcore==1.*->httpx<1,>=0.23.0->langsmith<1.0.0,>=0.1.125->langchain-community) (0.16.0)\n",
            "Requirement already satisfied: jsonpointer>=1.9 in /usr/local/lib/python3.12/dist-packages (from jsonpatch<2.0,>=1.33->langchain-core<2.0.0,>=0.3.75->langchain-community) (3.0.0)\n",
            "Requirement already satisfied: annotated-types>=0.6.0 in /usr/local/lib/python3.12/dist-packages (from pydantic<3.0.0,>=2.7.4->langchain<2.0.0,>=0.3.27->langchain-community) (0.7.0)\n",
            "Requirement already satisfied: pydantic-core==2.33.2 in /usr/local/lib/python3.12/dist-packages (from pydantic<3.0.0,>=2.7.4->langchain<2.0.0,>=0.3.27->langchain-community) (2.33.2)\n",
            "Collecting mypy-extensions>=0.3.0 (from typing-inspect<1,>=0.4.0->dataclasses-json<0.7.0,>=0.6.7->langchain-community)\n",
            "  Downloading mypy_extensions-1.1.0-py3-none-any.whl.metadata (1.1 kB)\n",
            "Requirement already satisfied: sniffio>=1.1 in /usr/local/lib/python3.12/dist-packages (from anyio->httpx<1,>=0.23.0->langsmith<1.0.0,>=0.1.125->langchain-community) (1.3.1)\n",
            "Downloading langchain_community-0.3.30-py3-none-any.whl (2.5 MB)\n",
            "\u001b[2K   \u001b[90m━━━━━━━━━━━━━━━━━━━━━━━━━━━━━━━━━━━━━━━━\u001b[0m \u001b[32m2.5/2.5 MB\u001b[0m \u001b[31m29.8 MB/s\u001b[0m eta \u001b[36m0:00:00\u001b[0m\n",
            "\u001b[?25hDownloading dataclasses_json-0.6.7-py3-none-any.whl (28 kB)\n",
            "Downloading requests-2.32.5-py3-none-any.whl (64 kB)\n",
            "\u001b[2K   \u001b[90m━━━━━━━━━━━━━━━━━━━━━━━━━━━━━━━━━━━━━━━━\u001b[0m \u001b[32m64.7/64.7 kB\u001b[0m \u001b[31m6.8 MB/s\u001b[0m eta \u001b[36m0:00:00\u001b[0m\n",
            "\u001b[?25hDownloading marshmallow-3.26.1-py3-none-any.whl (50 kB)\n",
            "\u001b[2K   \u001b[90m━━━━━━━━━━━━━━━━━━━━━━━━━━━━━━━━━━━━━━━━\u001b[0m \u001b[32m50.9/50.9 kB\u001b[0m \u001b[31m4.8 MB/s\u001b[0m eta \u001b[36m0:00:00\u001b[0m\n",
            "\u001b[?25hDownloading typing_inspect-0.9.0-py3-none-any.whl (8.8 kB)\n",
            "Downloading mypy_extensions-1.1.0-py3-none-any.whl (5.0 kB)\n",
            "Installing collected packages: requests, mypy-extensions, marshmallow, typing-inspect, dataclasses-json, langchain-community\n",
            "  Attempting uninstall: requests\n",
            "    Found existing installation: requests 2.32.4\n",
            "    Uninstalling requests-2.32.4:\n",
            "      Successfully uninstalled requests-2.32.4\n",
            "\u001b[31mERROR: pip's dependency resolver does not currently take into account all the packages that are installed. This behaviour is the source of the following dependency conflicts.\n",
            "google-colab 1.0.0 requires requests==2.32.4, but you have requests 2.32.5 which is incompatible.\u001b[0m\u001b[31m\n",
            "\u001b[0mSuccessfully installed dataclasses-json-0.6.7 langchain-community-0.3.30 marshmallow-3.26.1 mypy-extensions-1.1.0 requests-2.32.5 typing-inspect-0.9.0\n"
          ]
        },
        {
          "output_type": "display_data",
          "data": {
            "application/vnd.colab-display-data+json": {
              "pip_warning": {
                "packages": [
                  "requests"
                ]
              },
              "id": "409be7f740d6465384f5dd8e90a5ae2b"
            }
          },
          "metadata": {}
        }
      ],
      "source": [
        "!pip install langchain-community"
      ]
    },
    {
      "cell_type": "code",
      "source": [
        "!pip install langchain-google-genai"
      ],
      "metadata": {
        "colab": {
          "base_uri": "https://localhost:8080/",
          "height": 1000
        },
        "collapsed": true,
        "id": "PQn7CW76aMAY",
        "outputId": "71f770f4-ee4c-4e7d-9f08-264317dfcad4"
      },
      "execution_count": 1,
      "outputs": [
        {
          "output_type": "stream",
          "name": "stdout",
          "text": [
            "Collecting langchain-google-genai\n",
            "  Downloading langchain_google_genai-2.1.12-py3-none-any.whl.metadata (7.1 kB)\n",
            "Requirement already satisfied: langchain-core>=0.3.75 in /usr/local/lib/python3.12/dist-packages (from langchain-google-genai) (0.3.76)\n",
            "Collecting google-ai-generativelanguage<1,>=0.7 (from langchain-google-genai)\n",
            "  Downloading google_ai_generativelanguage-0.7.0-py3-none-any.whl.metadata (10 kB)\n",
            "Requirement already satisfied: pydantic<3,>=2 in /usr/local/lib/python3.12/dist-packages (from langchain-google-genai) (2.11.9)\n",
            "Collecting filetype<2,>=1.2 (from langchain-google-genai)\n",
            "  Downloading filetype-1.2.0-py2.py3-none-any.whl.metadata (6.5 kB)\n",
            "Requirement already satisfied: google-api-core!=2.0.*,!=2.1.*,!=2.10.*,!=2.2.*,!=2.3.*,!=2.4.*,!=2.5.*,!=2.6.*,!=2.7.*,!=2.8.*,!=2.9.*,<3.0.0,>=1.34.1 in /usr/local/lib/python3.12/dist-packages (from google-api-core[grpc]!=2.0.*,!=2.1.*,!=2.10.*,!=2.2.*,!=2.3.*,!=2.4.*,!=2.5.*,!=2.6.*,!=2.7.*,!=2.8.*,!=2.9.*,<3.0.0,>=1.34.1->google-ai-generativelanguage<1,>=0.7->langchain-google-genai) (2.25.1)\n",
            "Requirement already satisfied: google-auth!=2.24.0,!=2.25.0,<3.0.0,>=2.14.1 in /usr/local/lib/python3.12/dist-packages (from google-ai-generativelanguage<1,>=0.7->langchain-google-genai) (2.38.0)\n",
            "Requirement already satisfied: proto-plus<2.0.0,>=1.22.3 in /usr/local/lib/python3.12/dist-packages (from google-ai-generativelanguage<1,>=0.7->langchain-google-genai) (1.26.1)\n",
            "Requirement already satisfied: protobuf!=4.21.0,!=4.21.1,!=4.21.2,!=4.21.3,!=4.21.4,!=4.21.5,<7.0.0,>=3.20.2 in /usr/local/lib/python3.12/dist-packages (from google-ai-generativelanguage<1,>=0.7->langchain-google-genai) (5.29.5)\n",
            "Requirement already satisfied: langsmith>=0.3.45 in /usr/local/lib/python3.12/dist-packages (from langchain-core>=0.3.75->langchain-google-genai) (0.4.28)\n",
            "Requirement already satisfied: tenacity!=8.4.0,<10.0.0,>=8.1.0 in /usr/local/lib/python3.12/dist-packages (from langchain-core>=0.3.75->langchain-google-genai) (8.5.0)\n",
            "Requirement already satisfied: jsonpatch<2.0,>=1.33 in /usr/local/lib/python3.12/dist-packages (from langchain-core>=0.3.75->langchain-google-genai) (1.33)\n",
            "Requirement already satisfied: PyYAML>=5.3 in /usr/local/lib/python3.12/dist-packages (from langchain-core>=0.3.75->langchain-google-genai) (6.0.2)\n",
            "Requirement already satisfied: typing-extensions>=4.7 in /usr/local/lib/python3.12/dist-packages (from langchain-core>=0.3.75->langchain-google-genai) (4.15.0)\n",
            "Requirement already satisfied: packaging>=23.2 in /usr/local/lib/python3.12/dist-packages (from langchain-core>=0.3.75->langchain-google-genai) (25.0)\n",
            "Requirement already satisfied: annotated-types>=0.6.0 in /usr/local/lib/python3.12/dist-packages (from pydantic<3,>=2->langchain-google-genai) (0.7.0)\n",
            "Requirement already satisfied: pydantic-core==2.33.2 in /usr/local/lib/python3.12/dist-packages (from pydantic<3,>=2->langchain-google-genai) (2.33.2)\n",
            "Requirement already satisfied: typing-inspection>=0.4.0 in /usr/local/lib/python3.12/dist-packages (from pydantic<3,>=2->langchain-google-genai) (0.4.1)\n",
            "Requirement already satisfied: googleapis-common-protos<2.0.0,>=1.56.2 in /usr/local/lib/python3.12/dist-packages (from google-api-core!=2.0.*,!=2.1.*,!=2.10.*,!=2.2.*,!=2.3.*,!=2.4.*,!=2.5.*,!=2.6.*,!=2.7.*,!=2.8.*,!=2.9.*,<3.0.0,>=1.34.1->google-api-core[grpc]!=2.0.*,!=2.1.*,!=2.10.*,!=2.2.*,!=2.3.*,!=2.4.*,!=2.5.*,!=2.6.*,!=2.7.*,!=2.8.*,!=2.9.*,<3.0.0,>=1.34.1->google-ai-generativelanguage<1,>=0.7->langchain-google-genai) (1.70.0)\n",
            "Requirement already satisfied: requests<3.0.0,>=2.18.0 in /usr/local/lib/python3.12/dist-packages (from google-api-core!=2.0.*,!=2.1.*,!=2.10.*,!=2.2.*,!=2.3.*,!=2.4.*,!=2.5.*,!=2.6.*,!=2.7.*,!=2.8.*,!=2.9.*,<3.0.0,>=1.34.1->google-api-core[grpc]!=2.0.*,!=2.1.*,!=2.10.*,!=2.2.*,!=2.3.*,!=2.4.*,!=2.5.*,!=2.6.*,!=2.7.*,!=2.8.*,!=2.9.*,<3.0.0,>=1.34.1->google-ai-generativelanguage<1,>=0.7->langchain-google-genai) (2.32.5)\n",
            "Requirement already satisfied: grpcio<2.0.0,>=1.33.2 in /usr/local/lib/python3.12/dist-packages (from google-api-core[grpc]!=2.0.*,!=2.1.*,!=2.10.*,!=2.2.*,!=2.3.*,!=2.4.*,!=2.5.*,!=2.6.*,!=2.7.*,!=2.8.*,!=2.9.*,<3.0.0,>=1.34.1->google-ai-generativelanguage<1,>=0.7->langchain-google-genai) (1.75.0)\n",
            "Requirement already satisfied: grpcio-status<2.0.0,>=1.33.2 in /usr/local/lib/python3.12/dist-packages (from google-api-core[grpc]!=2.0.*,!=2.1.*,!=2.10.*,!=2.2.*,!=2.3.*,!=2.4.*,!=2.5.*,!=2.6.*,!=2.7.*,!=2.8.*,!=2.9.*,<3.0.0,>=1.34.1->google-ai-generativelanguage<1,>=0.7->langchain-google-genai) (1.71.2)\n",
            "Requirement already satisfied: cachetools<6.0,>=2.0.0 in /usr/local/lib/python3.12/dist-packages (from google-auth!=2.24.0,!=2.25.0,<3.0.0,>=2.14.1->google-ai-generativelanguage<1,>=0.7->langchain-google-genai) (5.5.2)\n",
            "Requirement already satisfied: pyasn1-modules>=0.2.1 in /usr/local/lib/python3.12/dist-packages (from google-auth!=2.24.0,!=2.25.0,<3.0.0,>=2.14.1->google-ai-generativelanguage<1,>=0.7->langchain-google-genai) (0.4.2)\n",
            "Requirement already satisfied: rsa<5,>=3.1.4 in /usr/local/lib/python3.12/dist-packages (from google-auth!=2.24.0,!=2.25.0,<3.0.0,>=2.14.1->google-ai-generativelanguage<1,>=0.7->langchain-google-genai) (4.9.1)\n",
            "Requirement already satisfied: jsonpointer>=1.9 in /usr/local/lib/python3.12/dist-packages (from jsonpatch<2.0,>=1.33->langchain-core>=0.3.75->langchain-google-genai) (3.0.0)\n",
            "Requirement already satisfied: httpx<1,>=0.23.0 in /usr/local/lib/python3.12/dist-packages (from langsmith>=0.3.45->langchain-core>=0.3.75->langchain-google-genai) (0.28.1)\n",
            "Requirement already satisfied: orjson>=3.9.14 in /usr/local/lib/python3.12/dist-packages (from langsmith>=0.3.45->langchain-core>=0.3.75->langchain-google-genai) (3.11.3)\n",
            "Requirement already satisfied: requests-toolbelt>=1.0.0 in /usr/local/lib/python3.12/dist-packages (from langsmith>=0.3.45->langchain-core>=0.3.75->langchain-google-genai) (1.0.0)\n",
            "Requirement already satisfied: zstandard>=0.23.0 in /usr/local/lib/python3.12/dist-packages (from langsmith>=0.3.45->langchain-core>=0.3.75->langchain-google-genai) (0.25.0)\n",
            "Requirement already satisfied: anyio in /usr/local/lib/python3.12/dist-packages (from httpx<1,>=0.23.0->langsmith>=0.3.45->langchain-core>=0.3.75->langchain-google-genai) (4.10.0)\n",
            "Requirement already satisfied: certifi in /usr/local/lib/python3.12/dist-packages (from httpx<1,>=0.23.0->langsmith>=0.3.45->langchain-core>=0.3.75->langchain-google-genai) (2025.8.3)\n",
            "Requirement already satisfied: httpcore==1.* in /usr/local/lib/python3.12/dist-packages (from httpx<1,>=0.23.0->langsmith>=0.3.45->langchain-core>=0.3.75->langchain-google-genai) (1.0.9)\n",
            "Requirement already satisfied: idna in /usr/local/lib/python3.12/dist-packages (from httpx<1,>=0.23.0->langsmith>=0.3.45->langchain-core>=0.3.75->langchain-google-genai) (3.10)\n",
            "Requirement already satisfied: h11>=0.16 in /usr/local/lib/python3.12/dist-packages (from httpcore==1.*->httpx<1,>=0.23.0->langsmith>=0.3.45->langchain-core>=0.3.75->langchain-google-genai) (0.16.0)\n",
            "Requirement already satisfied: pyasn1<0.7.0,>=0.6.1 in /usr/local/lib/python3.12/dist-packages (from pyasn1-modules>=0.2.1->google-auth!=2.24.0,!=2.25.0,<3.0.0,>=2.14.1->google-ai-generativelanguage<1,>=0.7->langchain-google-genai) (0.6.1)\n",
            "Requirement already satisfied: charset_normalizer<4,>=2 in /usr/local/lib/python3.12/dist-packages (from requests<3.0.0,>=2.18.0->google-api-core!=2.0.*,!=2.1.*,!=2.10.*,!=2.2.*,!=2.3.*,!=2.4.*,!=2.5.*,!=2.6.*,!=2.7.*,!=2.8.*,!=2.9.*,<3.0.0,>=1.34.1->google-api-core[grpc]!=2.0.*,!=2.1.*,!=2.10.*,!=2.2.*,!=2.3.*,!=2.4.*,!=2.5.*,!=2.6.*,!=2.7.*,!=2.8.*,!=2.9.*,<3.0.0,>=1.34.1->google-ai-generativelanguage<1,>=0.7->langchain-google-genai) (3.4.3)\n",
            "Requirement already satisfied: urllib3<3,>=1.21.1 in /usr/local/lib/python3.12/dist-packages (from requests<3.0.0,>=2.18.0->google-api-core!=2.0.*,!=2.1.*,!=2.10.*,!=2.2.*,!=2.3.*,!=2.4.*,!=2.5.*,!=2.6.*,!=2.7.*,!=2.8.*,!=2.9.*,<3.0.0,>=1.34.1->google-api-core[grpc]!=2.0.*,!=2.1.*,!=2.10.*,!=2.2.*,!=2.3.*,!=2.4.*,!=2.5.*,!=2.6.*,!=2.7.*,!=2.8.*,!=2.9.*,<3.0.0,>=1.34.1->google-ai-generativelanguage<1,>=0.7->langchain-google-genai) (2.5.0)\n",
            "Requirement already satisfied: sniffio>=1.1 in /usr/local/lib/python3.12/dist-packages (from anyio->httpx<1,>=0.23.0->langsmith>=0.3.45->langchain-core>=0.3.75->langchain-google-genai) (1.3.1)\n",
            "Downloading langchain_google_genai-2.1.12-py3-none-any.whl (50 kB)\n",
            "\u001b[2K   \u001b[90m━━━━━━━━━━━━━━━━━━━━━━━━━━━━━━━━━━━━━━━━\u001b[0m \u001b[32m50.7/50.7 kB\u001b[0m \u001b[31m2.0 MB/s\u001b[0m eta \u001b[36m0:00:00\u001b[0m\n",
            "\u001b[?25hDownloading filetype-1.2.0-py2.py3-none-any.whl (19 kB)\n",
            "Downloading google_ai_generativelanguage-0.7.0-py3-none-any.whl (1.4 MB)\n",
            "\u001b[2K   \u001b[90m━━━━━━━━━━━━━━━━━━━━━━━━━━━━━━━━━━━━━━━━\u001b[0m \u001b[32m1.4/1.4 MB\u001b[0m \u001b[31m33.7 MB/s\u001b[0m eta \u001b[36m0:00:00\u001b[0m\n",
            "\u001b[?25hInstalling collected packages: filetype, google-ai-generativelanguage, langchain-google-genai\n",
            "  Attempting uninstall: google-ai-generativelanguage\n",
            "    Found existing installation: google-ai-generativelanguage 0.6.15\n",
            "    Uninstalling google-ai-generativelanguage-0.6.15:\n",
            "      Successfully uninstalled google-ai-generativelanguage-0.6.15\n",
            "\u001b[31mERROR: pip's dependency resolver does not currently take into account all the packages that are installed. This behaviour is the source of the following dependency conflicts.\n",
            "google-generativeai 0.8.5 requires google-ai-generativelanguage==0.6.15, but you have google-ai-generativelanguage 0.7.0 which is incompatible.\u001b[0m\u001b[31m\n",
            "\u001b[0mSuccessfully installed filetype-1.2.0 google-ai-generativelanguage-0.7.0 langchain-google-genai-2.1.12\n"
          ]
        },
        {
          "output_type": "display_data",
          "data": {
            "application/vnd.colab-display-data+json": {
              "pip_warning": {
                "packages": [
                  "google"
                ]
              },
              "id": "0ab3798f0af540ca96ec1e64bc608002"
            }
          },
          "metadata": {}
        }
      ]
    },
    {
      "cell_type": "code",
      "source": [
        "!pip install google-generativeai"
      ],
      "metadata": {
        "colab": {
          "base_uri": "https://localhost:8080/",
          "height": 827
        },
        "collapsed": true,
        "id": "1xr8darwOnZi",
        "outputId": "4fd30b34-2a97-4d72-c452-ab0cdfd7ac78"
      },
      "execution_count": 2,
      "outputs": [
        {
          "output_type": "stream",
          "name": "stdout",
          "text": [
            "Requirement already satisfied: google-generativeai in /usr/local/lib/python3.12/dist-packages (0.8.5)\n",
            "Collecting google-ai-generativelanguage==0.6.15 (from google-generativeai)\n",
            "  Downloading google_ai_generativelanguage-0.6.15-py3-none-any.whl.metadata (5.7 kB)\n",
            "Requirement already satisfied: google-api-core in /usr/local/lib/python3.12/dist-packages (from google-generativeai) (2.25.1)\n",
            "Requirement already satisfied: google-api-python-client in /usr/local/lib/python3.12/dist-packages (from google-generativeai) (2.182.0)\n",
            "Requirement already satisfied: google-auth>=2.15.0 in /usr/local/lib/python3.12/dist-packages (from google-generativeai) (2.38.0)\n",
            "Requirement already satisfied: protobuf in /usr/local/lib/python3.12/dist-packages (from google-generativeai) (5.29.5)\n",
            "Requirement already satisfied: pydantic in /usr/local/lib/python3.12/dist-packages (from google-generativeai) (2.11.9)\n",
            "Requirement already satisfied: tqdm in /usr/local/lib/python3.12/dist-packages (from google-generativeai) (4.67.1)\n",
            "Requirement already satisfied: typing-extensions in /usr/local/lib/python3.12/dist-packages (from google-generativeai) (4.15.0)\n",
            "Requirement already satisfied: proto-plus<2.0.0dev,>=1.22.3 in /usr/local/lib/python3.12/dist-packages (from google-ai-generativelanguage==0.6.15->google-generativeai) (1.26.1)\n",
            "Requirement already satisfied: googleapis-common-protos<2.0.0,>=1.56.2 in /usr/local/lib/python3.12/dist-packages (from google-api-core->google-generativeai) (1.70.0)\n",
            "Requirement already satisfied: requests<3.0.0,>=2.18.0 in /usr/local/lib/python3.12/dist-packages (from google-api-core->google-generativeai) (2.32.5)\n",
            "Requirement already satisfied: cachetools<6.0,>=2.0.0 in /usr/local/lib/python3.12/dist-packages (from google-auth>=2.15.0->google-generativeai) (5.5.2)\n",
            "Requirement already satisfied: pyasn1-modules>=0.2.1 in /usr/local/lib/python3.12/dist-packages (from google-auth>=2.15.0->google-generativeai) (0.4.2)\n",
            "Requirement already satisfied: rsa<5,>=3.1.4 in /usr/local/lib/python3.12/dist-packages (from google-auth>=2.15.0->google-generativeai) (4.9.1)\n",
            "Requirement already satisfied: httplib2<1.0.0,>=0.19.0 in /usr/local/lib/python3.12/dist-packages (from google-api-python-client->google-generativeai) (0.31.0)\n",
            "Requirement already satisfied: google-auth-httplib2<1.0.0,>=0.2.0 in /usr/local/lib/python3.12/dist-packages (from google-api-python-client->google-generativeai) (0.2.0)\n",
            "Requirement already satisfied: uritemplate<5,>=3.0.1 in /usr/local/lib/python3.12/dist-packages (from google-api-python-client->google-generativeai) (4.2.0)\n",
            "Requirement already satisfied: annotated-types>=0.6.0 in /usr/local/lib/python3.12/dist-packages (from pydantic->google-generativeai) (0.7.0)\n",
            "Requirement already satisfied: pydantic-core==2.33.2 in /usr/local/lib/python3.12/dist-packages (from pydantic->google-generativeai) (2.33.2)\n",
            "Requirement already satisfied: typing-inspection>=0.4.0 in /usr/local/lib/python3.12/dist-packages (from pydantic->google-generativeai) (0.4.1)\n",
            "Requirement already satisfied: grpcio<2.0.0,>=1.33.2 in /usr/local/lib/python3.12/dist-packages (from google-api-core[grpc]!=2.0.*,!=2.1.*,!=2.10.*,!=2.2.*,!=2.3.*,!=2.4.*,!=2.5.*,!=2.6.*,!=2.7.*,!=2.8.*,!=2.9.*,<3.0.0dev,>=1.34.1->google-ai-generativelanguage==0.6.15->google-generativeai) (1.75.0)\n",
            "Requirement already satisfied: grpcio-status<2.0.0,>=1.33.2 in /usr/local/lib/python3.12/dist-packages (from google-api-core[grpc]!=2.0.*,!=2.1.*,!=2.10.*,!=2.2.*,!=2.3.*,!=2.4.*,!=2.5.*,!=2.6.*,!=2.7.*,!=2.8.*,!=2.9.*,<3.0.0dev,>=1.34.1->google-ai-generativelanguage==0.6.15->google-generativeai) (1.71.2)\n",
            "Requirement already satisfied: pyparsing<4,>=3.0.4 in /usr/local/lib/python3.12/dist-packages (from httplib2<1.0.0,>=0.19.0->google-api-python-client->google-generativeai) (3.2.4)\n",
            "Requirement already satisfied: pyasn1<0.7.0,>=0.6.1 in /usr/local/lib/python3.12/dist-packages (from pyasn1-modules>=0.2.1->google-auth>=2.15.0->google-generativeai) (0.6.1)\n",
            "Requirement already satisfied: charset_normalizer<4,>=2 in /usr/local/lib/python3.12/dist-packages (from requests<3.0.0,>=2.18.0->google-api-core->google-generativeai) (3.4.3)\n",
            "Requirement already satisfied: idna<4,>=2.5 in /usr/local/lib/python3.12/dist-packages (from requests<3.0.0,>=2.18.0->google-api-core->google-generativeai) (3.10)\n",
            "Requirement already satisfied: urllib3<3,>=1.21.1 in /usr/local/lib/python3.12/dist-packages (from requests<3.0.0,>=2.18.0->google-api-core->google-generativeai) (2.5.0)\n",
            "Requirement already satisfied: certifi>=2017.4.17 in /usr/local/lib/python3.12/dist-packages (from requests<3.0.0,>=2.18.0->google-api-core->google-generativeai) (2025.8.3)\n",
            "Downloading google_ai_generativelanguage-0.6.15-py3-none-any.whl (1.3 MB)\n",
            "\u001b[2K   \u001b[90m━━━━━━━━━━━━━━━━━━━━━━━━━━━━━━━━━━━━━━━━\u001b[0m \u001b[32m1.3/1.3 MB\u001b[0m \u001b[31m9.6 MB/s\u001b[0m eta \u001b[36m0:00:00\u001b[0m\n",
            "\u001b[?25hInstalling collected packages: google-ai-generativelanguage\n",
            "  Attempting uninstall: google-ai-generativelanguage\n",
            "    Found existing installation: google-ai-generativelanguage 0.7.0\n",
            "    Uninstalling google-ai-generativelanguage-0.7.0:\n",
            "      Successfully uninstalled google-ai-generativelanguage-0.7.0\n",
            "\u001b[31mERROR: pip's dependency resolver does not currently take into account all the packages that are installed. This behaviour is the source of the following dependency conflicts.\n",
            "langchain-google-genai 2.1.12 requires google-ai-generativelanguage<1,>=0.7, but you have google-ai-generativelanguage 0.6.15 which is incompatible.\u001b[0m\u001b[31m\n",
            "\u001b[0mSuccessfully installed google-ai-generativelanguage-0.6.15\n"
          ]
        },
        {
          "output_type": "display_data",
          "data": {
            "application/vnd.colab-display-data+json": {
              "pip_warning": {
                "packages": [
                  "google"
                ]
              },
              "id": "0ba6dbe0ffdf463b8deccb3953ad8990"
            }
          },
          "metadata": {}
        }
      ]
    },
    {
      "cell_type": "code",
      "source": [
        "from google.colab import userdata\n",
        "generative_api = userdata.get('generative')"
      ],
      "metadata": {
        "id": "YT4kfe5XTahA"
      },
      "execution_count": 3,
      "outputs": []
    },
    {
      "cell_type": "markdown",
      "source": [
        "# Creating the LLM"
      ],
      "metadata": {
        "id": "zQBcYvp_ZL0t"
      }
    },
    {
      "cell_type": "code",
      "source": [
        "from langchain_google_genai import GoogleGenerativeAI"
      ],
      "metadata": {
        "id": "C930ajH9ZW8V"
      },
      "execution_count": 4,
      "outputs": []
    },
    {
      "cell_type": "code",
      "source": [
        "llm = GoogleGenerativeAI(\n",
        "    model = \"gemini-2.0-flash\",\n",
        "    temperature = 0.7,\n",
        "    api_key = generative_api\n",
        ")"
      ],
      "metadata": {
        "id": "6jw-nfkabISY"
      },
      "execution_count": 5,
      "outputs": []
    },
    {
      "cell_type": "markdown",
      "source": [
        "# Creating the Prompt Template"
      ],
      "metadata": {
        "id": "nlCKA6HRh7R7"
      }
    },
    {
      "cell_type": "code",
      "source": [
        "from langchain.prompts import PromptTemplate"
      ],
      "metadata": {
        "id": "qey_Ojw_h_n2"
      },
      "execution_count": 6,
      "outputs": []
    },
    {
      "cell_type": "code",
      "source": [
        "translation_template = \"\"\"\n",
        "Your are a helpful translator.\n",
        "Translate the following text from {source_language} to {target_language}:\n",
        "text = {text}\n",
        "\"\"\""
      ],
      "metadata": {
        "id": "M99bvc5Uuq73"
      },
      "execution_count": 7,
      "outputs": []
    },
    {
      "cell_type": "code",
      "source": [
        "\"text : how are you, source_language : english, target_language : urdu\""
      ],
      "metadata": {
        "colab": {
          "base_uri": "https://localhost:8080/",
          "height": 35
        },
        "id": "6841YeMiwKy7",
        "outputId": "43c19647-23f4-47bb-fdbf-e8ec5efc902a"
      },
      "execution_count": 8,
      "outputs": [
        {
          "output_type": "execute_result",
          "data": {
            "text/plain": [
              "'text : how are you, source_language : english, target_language : urdu'"
            ],
            "application/vnd.google.colaboratory.intrinsic+json": {
              "type": "string"
            }
          },
          "metadata": {},
          "execution_count": 8
        }
      ]
    },
    {
      "cell_type": "code",
      "source": [
        "translation_prompt = PromptTemplate(\n",
        "    input_variables = [\"source_language\", \"target_language\", \"text\"],\n",
        "    template = translation_template\n",
        ")"
      ],
      "metadata": {
        "id": "i9yCPCeUxSCl"
      },
      "execution_count": 9,
      "outputs": []
    },
    {
      "cell_type": "code",
      "source": [
        "formatted_template = translation_prompt.format(\n",
        "    source_language = \"english\",\n",
        "    target_language = \"urdu\",\n",
        "    text = \"how are you\"\n",
        ")"
      ],
      "metadata": {
        "id": "uU6IqO1xySXg"
      },
      "execution_count": 10,
      "outputs": []
    },
    {
      "cell_type": "code",
      "source": [
        "print(formatted_template)"
      ],
      "metadata": {
        "colab": {
          "base_uri": "https://localhost:8080/"
        },
        "id": "1b5j9ZzJy6Qz",
        "outputId": "871cad0a-7d09-42fc-a6fc-e73fc71b98b8"
      },
      "execution_count": 11,
      "outputs": [
        {
          "output_type": "stream",
          "name": "stdout",
          "text": [
            "\n",
            "Your are a helpful translator.\n",
            "Translate the following text from english to urdu:\n",
            "text = how are you\n",
            "\n"
          ]
        }
      ]
    },
    {
      "cell_type": "markdown",
      "source": [
        "# Simple CHain"
      ],
      "metadata": {
        "id": "wRK5k9CwzP1B"
      }
    },
    {
      "cell_type": "code",
      "source": [
        "from langchain.chains import LLMChain"
      ],
      "metadata": {
        "id": "7VzfHsUtzSkA"
      },
      "execution_count": 12,
      "outputs": []
    },
    {
      "cell_type": "code",
      "source": [
        "chainllm_chain = LLMChain(\n",
        "    llm = llm,\n",
        "    prompt = translation_prompt\n",
        ")"
      ],
      "metadata": {
        "colab": {
          "base_uri": "https://localhost:8080/"
        },
        "id": "zmRMd9kgziOd",
        "outputId": "eaa65d55-68cc-4e7a-c69f-34f12b74d6a8"
      },
      "execution_count": 13,
      "outputs": [
        {
          "output_type": "stream",
          "name": "stderr",
          "text": [
            "/tmp/ipython-input-2820838507.py:1: LangChainDeprecationWarning: The class `LLMChain` was deprecated in LangChain 0.1.17 and will be removed in 1.0. Use :meth:`~RunnableSequence, e.g., `prompt | llm`` instead.\n",
            "  chainllm_chain = LLMChain(\n"
          ]
        }
      ]
    },
    {
      "cell_type": "code",
      "source": [
        "response = chainllm_chain.run({'text' : 'how are you', 'source_language' : 'english', 'target_language' : 'urdu'})"
      ],
      "metadata": {
        "colab": {
          "base_uri": "https://localhost:8080/"
        },
        "id": "1x2NC7GR0AKp",
        "outputId": "9ee29e53-f254-4dd7-bf7a-4005e12b8600"
      },
      "execution_count": 14,
      "outputs": [
        {
          "output_type": "stream",
          "name": "stderr",
          "text": [
            "/tmp/ipython-input-3640884812.py:1: LangChainDeprecationWarning: The method `Chain.run` was deprecated in langchain 0.1.0 and will be removed in 1.0. Use :meth:`~invoke` instead.\n",
            "  response = chainllm_chain.run({'text' : 'how are you', 'source_language' : 'english', 'target_language' : 'urdu'})\n"
          ]
        }
      ]
    },
    {
      "cell_type": "code",
      "source": [
        "response"
      ],
      "metadata": {
        "colab": {
          "base_uri": "https://localhost:8080/",
          "height": 35
        },
        "id": "-v2Q22Tt19HE",
        "outputId": "dc3b73ed-5d9a-4cf8-cbcf-149846357c36"
      },
      "execution_count": 15,
      "outputs": [
        {
          "output_type": "execute_result",
          "data": {
            "text/plain": [
              "'آپ کیسے ہیں؟ (Aap kaise hain?)'"
            ],
            "application/vnd.google.colaboratory.intrinsic+json": {
              "type": "string"
            }
          },
          "metadata": {},
          "execution_count": 15
        }
      ]
    },
    {
      "cell_type": "markdown",
      "source": [
        "# Memory"
      ],
      "metadata": {
        "id": "jXKRhUty5cAo"
      }
    },
    {
      "cell_type": "code",
      "source": [
        "sample_prompt = PromptTemplate(\n",
        "    input_variables = [\"query\"],\n",
        "    template = \"Answer the query : {query}\"\n",
        ")"
      ],
      "metadata": {
        "id": "KRwbxfQb8fEA"
      },
      "execution_count": 16,
      "outputs": []
    },
    {
      "cell_type": "code",
      "source": [
        "chain_2 = LLMChain(\n",
        "    llm = llm,\n",
        "    prompt = sample_prompt\n",
        ")"
      ],
      "metadata": {
        "id": "D2Fq7tQt75-a"
      },
      "execution_count": 17,
      "outputs": []
    },
    {
      "cell_type": "code",
      "source": [
        "print(chain_2.run('What is Computer Science?'))"
      ],
      "metadata": {
        "colab": {
          "base_uri": "https://localhost:8080/"
        },
        "id": "bWRCt-Ra9MbZ",
        "outputId": "2c8781c0-83f1-4032-eae4-7056c355c517"
      },
      "execution_count": 18,
      "outputs": [
        {
          "output_type": "stream",
          "name": "stdout",
          "text": [
            "Computer Science (CS) is the study of computers and computational systems. It encompasses both theoretical and practical disciplines. At its core, it's about problem-solving using computation.\n",
            "\n",
            "Here's a breakdown of what that means:\n",
            "\n",
            "*   **Computers:** CS deals with the design, development, and operation of computers and related technologies (e.g., smartphones, servers, embedded systems).\n",
            "*   **Computational Systems:** This refers to any system that performs computation, from simple calculators to complex artificial intelligence.\n",
            "*   **Theoretical Disciplines:** This includes areas like:\n",
            "    *   **Algorithms:**  Developing step-by-step procedures to solve problems.  Efficiency and correctness are key considerations.\n",
            "    *   **Data Structures:**  Organizing and storing data in a way that allows for efficient access and modification.\n",
            "    *   **Theory of Computation:**  Exploring the limits of what computers can and cannot do (e.g., what problems are fundamentally unsolvable).\n",
            "    *   **Programming Languages:**  Designing and implementing languages that allow humans to instruct computers.\n",
            "*   **Practical Disciplines:** This includes areas like:\n",
            "    *   **Software Engineering:**  Developing large-scale software systems using principles of design, testing, and maintenance.\n",
            "    *   **Artificial Intelligence (AI):**  Creating intelligent systems that can learn, reason, and solve problems like humans.\n",
            "    *   **Computer Graphics:**  Generating and manipulating images using computers.\n",
            "    *   **Databases:**  Designing and managing systems for storing and retrieving large amounts of data.\n",
            "    *   **Networking:**  Building and managing networks of computers that can communicate with each other.\n",
            "    *   **Cybersecurity:** Protecting computer systems and networks from unauthorized access and cyber threats.\n",
            "    *   **Human-Computer Interaction (HCI):** Designing user-friendly interfaces that allow people to interact effectively with computers.\n",
            "    *   **Machine Learning:** Developing algorithms that allow computers to learn from data without being explicitly programmed.\n",
            "*   **Problem-Solving:** CS is fundamentally about using computational thinking to solve problems. This involves breaking down problems into smaller parts, identifying patterns, and developing algorithms to automate solutions.\n",
            "\n",
            "**In simpler terms:**\n",
            "\n",
            "Computer Science is about understanding how computers work and using that knowledge to create new technologies and solve real-world problems. It's the science behind everything from websites and apps to self-driving cars and medical imaging.\n",
            "\n",
            "**Key Aspects of Computer Science:**\n",
            "\n",
            "*   **Abstraction:** Simplifying complex systems by focusing on essential details.\n",
            "*   **Decomposition:** Breaking down complex problems into smaller, more manageable parts.\n",
            "*   **Pattern Recognition:** Identifying recurring patterns in data and problems.\n",
            "*   **Algorithmic Thinking:** Developing step-by-step procedures to solve problems.\n",
            "*   **Automation:** Using computers to automate tasks and processes.\n",
            "\n",
            "Computer Science is a constantly evolving field with new areas of research and development emerging all the time. It plays a crucial role in shaping our modern world.\n"
          ]
        }
      ]
    },
    {
      "cell_type": "code",
      "source": [
        "print(chain_2.run('Give me fields where we use Computer Science?'))"
      ],
      "metadata": {
        "colab": {
          "base_uri": "https://localhost:8080/"
        },
        "id": "HBgDY9PA9k1h",
        "outputId": "c132751d-0e08-4e2c-d983-2afec8a612f3"
      },
      "execution_count": 19,
      "outputs": [
        {
          "output_type": "stream",
          "name": "stdout",
          "text": [
            "Computer Science principles and applications are used in a vast and ever-expanding range of fields. Here's a breakdown of some key areas:\n",
            "\n",
            "**Core Technology & Software Development:**\n",
            "\n",
            "*   **Software Engineering:** Designing, developing, testing, and maintaining software applications and systems.\n",
            "*   **Web Development:** Building and maintaining websites and web applications.\n",
            "*   **Mobile App Development:** Creating applications for smartphones and tablets.\n",
            "*   **Database Administration:** Managing and maintaining databases to store and retrieve information efficiently.\n",
            "*   **Network Engineering:** Designing, implementing, and managing computer networks.\n",
            "*   **Cloud Computing:** Developing and managing cloud-based infrastructure and services.\n",
            "*   **Cybersecurity:** Protecting computer systems and networks from cyber threats.\n",
            "*   **Artificial Intelligence (AI) & Machine Learning (ML):** Developing intelligent systems that can learn from data and perform tasks without explicit programming.\n",
            "*   **Data Science:** Analyzing large datasets to extract insights and make predictions.\n",
            "*   **Game Development:** Designing and developing video games.\n",
            "*   **Operating Systems Development:** Creating and maintaining the core software that manages computer hardware and software resources.\n",
            "*   **Compiler Design:** Developing software that translates programming languages into machine code.\n",
            "\n",
            "**Science & Research:**\n",
            "\n",
            "*   **Bioinformatics:** Applying computational techniques to analyze biological data (DNA, proteins, etc.).\n",
            "*   **Computational Chemistry:** Using computers to model and simulate chemical reactions and properties.\n",
            "*   **Computational Physics:** Employing computational methods to solve physics problems.\n",
            "*   **Astronomy:** Analyzing astronomical data and simulating celestial phenomena.\n",
            "*   **Climate Science:** Modeling and predicting climate change.\n",
            "*   **Robotics:** Designing, building, and programming robots.\n",
            "\n",
            "**Business & Finance:**\n",
            "\n",
            "*   **Financial Modeling:** Creating computer models to analyze financial markets and make investment decisions.\n",
            "*   **Algorithmic Trading:** Developing automated trading systems based on algorithms.\n",
            "*   **Data Analytics:** Analyzing business data to improve decision-making.\n",
            "*   **E-commerce:** Developing and managing online stores and payment systems.\n",
            "*   **Supply Chain Management:** Optimizing the flow of goods and information in a supply chain.\n",
            "*   **Business Intelligence:** Using data analysis to understand business trends and performance.\n",
            "\n",
            "**Healthcare:**\n",
            "\n",
            "*   **Medical Imaging:** Developing and analyzing medical images (MRI, CT scans, X-rays).\n",
            "*   **Electronic Health Records (EHR):** Managing and storing patient medical information.\n",
            "*   **Drug Discovery:** Using computational methods to identify potential drug candidates.\n",
            "*   **Personalized Medicine:** Tailoring medical treatments to individual patients based on their genetic information.\n",
            "*   **Medical Robotics:** Using robots to assist in surgery and other medical procedures.\n",
            "*   **Telemedicine:** Providing healthcare services remotely using technology.\n",
            "\n",
            "**Education:**\n",
            "\n",
            "*   **Educational Software Development:** Creating software for teaching and learning.\n",
            "*   **Online Learning Platforms:** Developing and managing online learning platforms.\n",
            "*   **Educational Data Mining:** Analyzing student data to improve learning outcomes.\n",
            "*   **Computer Science Education:** Teaching computer science concepts to students of all ages.\n",
            "\n",
            "**Arts & Entertainment:**\n",
            "\n",
            "*   **Computer Graphics:** Creating visual effects for movies, video games, and other media.\n",
            "*   **Animation:** Creating animated films and television shows.\n",
            "*   **Virtual Reality (VR) & Augmented Reality (AR):** Developing immersive experiences.\n",
            "*   **Music Technology:** Using computers to create and manipulate music.\n",
            "*   **Digital Art:** Creating art using digital tools.\n",
            "\n",
            "**Engineering:**\n",
            "\n",
            "*   **Aerospace Engineering:** Designing and simulating aircraft and spacecraft.\n",
            "*   **Civil Engineering:** Modeling and analyzing infrastructure projects.\n",
            "*   **Electrical Engineering:** Designing and simulating electronic circuits and systems.\n",
            "*   **Mechanical Engineering:** Modeling and simulating mechanical systems.\n",
            "\n",
            "**Government & Public Sector:**\n",
            "\n",
            "*   **Government IT:** Managing and maintaining government computer systems.\n",
            "*   **National Security:** Protecting national security from cyber threats.\n",
            "*   **Law Enforcement:** Using computer forensics to investigate crimes.\n",
            "*   **Urban Planning:** Using computer models to plan and manage cities.\n",
            "\n",
            "**Other Fields:**\n",
            "\n",
            "*   **Agriculture:** Optimizing crop yields and managing resources using data analysis and automation.\n",
            "*   **Transportation:** Developing autonomous vehicles and optimizing traffic flow.\n",
            "*   **Manufacturing:** Automating manufacturing processes using robots and computer-controlled machines.\n",
            "*   **Environmental Science:** Modeling and analyzing environmental data.\n",
            "\n",
            "This is not an exhaustive list, but it provides a broad overview of the many fields where computer science is used.  The demand for computer scientists continues to grow as technology becomes more integrated into all aspects of our lives.\n"
          ]
        }
      ]
    },
    {
      "cell_type": "code",
      "source": [
        "print(chain_2.run('What its core applications?'))"
      ],
      "metadata": {
        "colab": {
          "base_uri": "https://localhost:8080/"
        },
        "id": "wkogf54d-LUt",
        "outputId": "82ebd962-564e-46b3-e58c-a69daf62b42b"
      },
      "execution_count": 20,
      "outputs": [
        {
          "output_type": "stream",
          "name": "stdout",
          "text": [
            "To answer your question \"What its core applications?\" I need to know what \"it\" refers to. Please provide context. \n",
            "\n",
            "For example, you could be asking about:\n",
            "\n",
            "*   **A specific software program:** \"What are the core applications of Adobe Photoshop?\"\n",
            "*   **A technology:** \"What are the core applications of blockchain?\"\n",
            "*   **A field of study:** \"What are the core applications of artificial intelligence?\"\n",
            "*   **A material:** \"What are the core applications of titanium?\"\n",
            "\n",
            "Once you tell me what \"it\" is, I can give you a relevant and accurate answer.\n"
          ]
        }
      ]
    },
    {
      "cell_type": "code",
      "source": [
        "from langchain.memory import ConversationBufferMemory"
      ],
      "metadata": {
        "id": "HxkOUJFa5fAk"
      },
      "execution_count": 21,
      "outputs": []
    },
    {
      "cell_type": "code",
      "source": [
        "from langchain.chains import ConversationChain"
      ],
      "metadata": {
        "id": "CkfQJfQ458st"
      },
      "execution_count": 22,
      "outputs": []
    },
    {
      "cell_type": "code",
      "source": [
        "llm"
      ],
      "metadata": {
        "colab": {
          "base_uri": "https://localhost:8080/"
        },
        "id": "NFRLuElb6Iuo",
        "outputId": "d904d3fe-278d-4e8f-e5cc-f020aa985f7c"
      },
      "execution_count": 23,
      "outputs": [
        {
          "output_type": "execute_result",
          "data": {
            "text/plain": [
              "GoogleGenerativeAI(model='models/gemini-2.0-flash', google_api_key=SecretStr('**********'), client=ChatGoogleGenerativeAI(model='models/gemini-2.0-flash', google_api_key=SecretStr('**********'), client=<google.ai.generativelanguage_v1beta.services.generative_service.client.GenerativeServiceClient object at 0x7e5bf5065c40>, default_metadata=(), model_kwargs={}))"
            ]
          },
          "metadata": {},
          "execution_count": 23
        }
      ]
    },
    {
      "cell_type": "code",
      "source": [
        "conv_memory = ConversationBufferMemory()"
      ],
      "metadata": {
        "colab": {
          "base_uri": "https://localhost:8080/"
        },
        "id": "Tpx4TUDj6P02",
        "outputId": "7bf44c2d-ca79-4c5b-e9cf-f10ef24d7b87"
      },
      "execution_count": 24,
      "outputs": [
        {
          "output_type": "stream",
          "name": "stderr",
          "text": [
            "/tmp/ipython-input-2310867509.py:1: LangChainDeprecationWarning: Please see the migration guide at: https://python.langchain.com/docs/versions/migrating_memory/\n",
            "  conv_memory = ConversationBufferMemory()\n"
          ]
        }
      ]
    },
    {
      "cell_type": "code",
      "source": [
        "conv_chain = ConversationChain(\n",
        "    llm = llm,\n",
        "    memory = conv_memory\n",
        ")"
      ],
      "metadata": {
        "colab": {
          "base_uri": "https://localhost:8080/"
        },
        "id": "t26vXYEn6gpX",
        "outputId": "f28ded48-f90d-4904-de6d-49d41da60eab"
      },
      "execution_count": 25,
      "outputs": [
        {
          "output_type": "stream",
          "name": "stderr",
          "text": [
            "/tmp/ipython-input-4239632192.py:1: LangChainDeprecationWarning: The class `ConversationChain` was deprecated in LangChain 0.2.7 and will be removed in 1.0. Use :class:`~langchain_core.runnables.history.RunnableWithMessageHistory` instead.\n",
            "  conv_chain = ConversationChain(\n"
          ]
        }
      ]
    },
    {
      "cell_type": "code",
      "source": [
        "print(conv_chain.predict(input = 'Hello'))"
      ],
      "metadata": {
        "colab": {
          "base_uri": "https://localhost:8080/"
        },
        "id": "KHgRSJAl6zCl",
        "outputId": "9755e0fd-83be-44d4-a116-b2f93f5d20b5"
      },
      "execution_count": 26,
      "outputs": [
        {
          "output_type": "stream",
          "name": "stdout",
          "text": [
            "Hello there! It's great to be chatting with you. I'm excited to see what we can discuss today. I've been running some simulations on large language model performance recently, and I've got some interesting data on how different training datasets impact creative text generation. But, of course, I'm happy to talk about anything that interests you! What's on your mind?\n"
          ]
        }
      ]
    },
    {
      "cell_type": "code",
      "source": [
        "print(conv_chain.predict(input = 'Explain about AI?'))"
      ],
      "metadata": {
        "colab": {
          "base_uri": "https://localhost:8080/"
        },
        "id": "I5vOWfV37Lgz",
        "outputId": "1116200d-687a-4739-c00d-5432129c8ba7"
      },
      "execution_count": 27,
      "outputs": [
        {
          "output_type": "stream",
          "name": "stdout",
          "text": [
            "Okay, let's dive into the world of AI! \"AI\" stands for Artificial Intelligence, and it's a really broad field. Essentially, it's about creating computer systems that can perform tasks that typically require human intelligence. Think things like learning, problem-solving, decision-making, and even understanding natural language.\n",
            "\n",
            "There are a few main approaches to AI. One is **symbolic AI**, also known as \"good old-fashioned AI\" (GOFAI). This approach focuses on representing knowledge explicitly using symbols and rules, and then using logical reasoning to solve problems. Think of it like programming a computer with a set of \"if-then\" statements. For example, \"IF the sky is gray AND it is raining, THEN take an umbrella.\" This was very popular in the early days of AI research.\n",
            "\n",
            "Then there's **machine learning (ML)**, which is arguably the dominant paradigm right now. Instead of explicitly programming rules, we feed computers large amounts of data and let them learn patterns and relationships on their own. There are several types of machine learning:\n",
            "\n",
            "*   **Supervised learning:** We give the computer labeled data (e.g., pictures of cats labeled \"cat\" and pictures of dogs labeled \"dog\"), and it learns to predict the correct label for new, unseen data.\n",
            "*   **Unsupervised learning:** We give the computer unlabeled data and ask it to find patterns and structures on its own, like clustering similar data points together.\n",
            "*   **Reinforcement learning:** The computer learns by trial and error in an environment, receiving rewards or penalties for its actions. This is often used for training AI agents to play games like Go or chess.\n",
            "\n",
            "Within machine learning, **deep learning** is a subfield that has achieved remarkable success in recent years. Deep learning uses artificial neural networks with many layers (hence \"deep\") to learn complex representations from data. These networks are inspired by the structure of the human brain, although they are much simpler. Deep learning is particularly good at tasks like image recognition, natural language processing, and speech recognition. For example, I am based on a large language model, which is a type of deep learning model. My architecture is a transformer network, and I was trained on a massive dataset of text and code.\n",
            "\n",
            "AI is being used in a wide range of applications, from self-driving cars and medical diagnosis to fraud detection and personalized recommendations. It's a rapidly evolving field with a lot of potential to transform many aspects of our lives.\n",
            "\n",
            "Of course, there are also concerns about the ethical implications of AI, such as job displacement, bias in algorithms, and the potential for misuse. These are important issues that need to be addressed as AI becomes more powerful and pervasive.\n",
            "\n",
            "Did you want me to elaborate on any specific area of AI, or perhaps discuss the ethical implications further? I can also provide more details on specific AI algorithms or applications if you'd like. Just let me know!\n"
          ]
        }
      ]
    },
    {
      "cell_type": "code",
      "source": [
        "print(conv_chain.predict(input = 'What are its applications?'))"
      ],
      "metadata": {
        "colab": {
          "base_uri": "https://localhost:8080/"
        },
        "id": "i1_xoZ-X7dao",
        "outputId": "47b4505c-6400-4929-9201-7e59acaee9ab"
      },
      "execution_count": 28,
      "outputs": [
        {
          "output_type": "stream",
          "name": "stdout",
          "text": [
            "Alright, let's talk about the applications of AI! As I mentioned before, AI is popping up everywhere, so this list is definitely not exhaustive, but it should give you a good overview. I'll try to categorize them for clarity:\n",
            "\n",
            "**1. Healthcare:**\n",
            "\n",
            "*   **Diagnosis and Treatment:** AI can analyze medical images (like X-rays and MRIs) to detect diseases like cancer with high accuracy, often assisting doctors in making earlier and more accurate diagnoses. AI is also being used to develop personalized treatment plans based on a patient's genetic makeup and medical history. For example, IBM's Watson was initially used for cancer treatment recommendations.\n",
            "*   **Drug Discovery:** AI algorithms can analyze vast amounts of data to identify potential drug candidates and predict their effectiveness, significantly speeding up the drug discovery process. Companies like Atomwise are using AI to design new drugs and therapies.\n",
            "*   **Robotic Surgery:** Robots assisted by AI can perform complex surgical procedures with greater precision and less invasiveness than traditional surgery. The da Vinci Surgical System is a well-known example.\n",
            "*   **Virtual Assistants:** AI-powered virtual assistants can help patients manage their medications, schedule appointments, and monitor their health conditions remotely.\n",
            "\n",
            "**2. Finance:**\n",
            "\n",
            "*   **Fraud Detection:** AI algorithms can analyze financial transactions in real-time to detect fraudulent activity and prevent financial losses. Companies like PayPal use AI to identify and prevent fraudulent transactions.\n",
            "*   **Algorithmic Trading:** AI-powered trading systems can analyze market data and execute trades automatically, often at speeds that are impossible for human traders.\n",
            "*   **Risk Management:** AI can assess credit risk, predict market trends, and manage investment portfolios more effectively.\n",
            "*   **Personalized Financial Advice:** AI-powered chatbots and virtual assistants can provide personalized financial advice to customers based on their individual needs and goals.\n",
            "\n",
            "**3. Transportation:**\n",
            "\n",
            "*   **Self-Driving Cars:** AI is the core technology behind self-driving cars, enabling them to perceive their surroundings, navigate roads, and make driving decisions without human intervention. Companies like Tesla, Waymo, and Uber are heavily invested in self-driving car technology.\n",
            "*   **Traffic Management:** AI can optimize traffic flow by analyzing traffic patterns and adjusting traffic signals in real-time.\n",
            "*   **Predictive Maintenance:** AI can predict when vehicles are likely to require maintenance, reducing downtime and improving safety.\n",
            "\n",
            "**4. Retail:**\n",
            "\n",
            "*   **Personalized Recommendations:** AI algorithms analyze customer data to provide personalized product recommendations, increasing sales and customer satisfaction. Amazon is a prime example of a company that uses AI for personalized recommendations.\n",
            "*   **Chatbots and Virtual Assistants:** AI-powered chatbots can provide customer support, answer questions, and process orders.\n",
            "*   **Inventory Management:** AI can optimize inventory levels by predicting demand and managing supply chains more efficiently.\n",
            "*   **Automated Checkout:** AI-powered checkout systems can automatically scan items and process payments, reducing checkout times and improving the customer experience. Amazon Go stores are a good example.\n",
            "\n",
            "**5. Manufacturing:**\n",
            "\n",
            "*   **Robotics and Automation:** AI-powered robots can perform repetitive and dangerous tasks in manufacturing plants, increasing efficiency and improving worker safety.\n",
            "*   **Quality Control:** AI can analyze images and sensor data to detect defects in products, improving quality control and reducing waste.\n",
            "*   **Predictive Maintenance:** AI can predict when equipment is likely to fail, enabling proactive maintenance and reducing downtime.\n",
            "\n",
            "**6. Education:**\n",
            "\n",
            "*   **Personalized Learning:** AI can adapt to individual student's learning styles and needs, providing personalized instruction and feedback.\n",
            "*   **Automated Grading:** AI can automate the grading of objective assessments, freeing up teachers' time for more personalized instruction.\n",
            "*   **Virtual Tutors:** AI-powered virtual tutors can provide students with personalized support and guidance.\n",
            "\n",
            "**7. Entertainment:**\n",
            "\n",
            "*   **Personalized Recommendations:** AI can recommend movies, music, and other content based on user preferences. Netflix and Spotify are great examples.\n",
            "*   **Content Creation:** AI can generate music, write scripts, and even create art.\n",
            "*   **Gaming:** AI is used to create more realistic and challenging game environments and opponents.\n",
            "\n",
            "**8. Security:**\n",
            "\n",
            "*   **Facial Recognition:** AI-powered facial recognition systems can be used for security and surveillance purposes.\n",
            "*   **Threat Detection:** AI can analyze network traffic and identify potential security threats.\n",
            "*   **Cybersecurity:** AI can automate threat detection and response, helping to protect against cyberattacks.\n",
            "\n",
            "These are just a few examples of the many applications of AI. As AI technology continues to develop, we can expect to see it used in even more innovative and transformative ways. Do any of these applications particularly interest you, or would you like me to elaborate on a specific area?\n"
          ]
        }
      ]
    },
    {
      "cell_type": "markdown",
      "source": [
        "# Sample Exercise"
      ],
      "metadata": {
        "id": "NzAh0jQwEszh"
      }
    },
    {
      "cell_type": "code",
      "source": [
        "from langchain.chains import SequentialChain, LLMChain"
      ],
      "metadata": {
        "id": "4qWr6O-IEvaM"
      },
      "execution_count": 29,
      "outputs": []
    },
    {
      "cell_type": "code",
      "source": [
        "from langchain.prompts import PromptTemplate"
      ],
      "metadata": {
        "id": "0jl_m8pRivnq"
      },
      "execution_count": 30,
      "outputs": []
    },
    {
      "cell_type": "code",
      "source": [
        "prompt1 = PromptTemplate(\n",
        "    input_variables = ['subject'],\n",
        "    template = \"Give me 3 blog topics about {subject}\"\n",
        ")\n",
        "\n",
        "prompt2 = PromptTemplate(\n",
        "    input_variables = ['topic'],\n",
        "    template = \"Give me a detailed blog on {topic}\"\n",
        ")"
      ],
      "metadata": {
        "id": "yx7kYWBJjKdc"
      },
      "execution_count": 31,
      "outputs": []
    },
    {
      "cell_type": "code",
      "source": [
        "chain_1 = LLMChain(llm = llm, prompt = prompt1, output_key = 'topic')\n",
        "chain_3 = LLMChain(llm = llm, prompt = prompt2, output_key = 'detail')"
      ],
      "metadata": {
        "id": "_zE-G4uqmMuZ"
      },
      "execution_count": 38,
      "outputs": []
    },
    {
      "cell_type": "code",
      "source": [
        "sequence_chain = SequentialChain(\n",
        "    chains = [chain_1, chain_3],\n",
        "    input_variables = ['subject'],\n",
        "    output_variables = ['topic', 'detail']\n",
        ")"
      ],
      "metadata": {
        "id": "hWAXC55bverl"
      },
      "execution_count": 39,
      "outputs": []
    },
    {
      "cell_type": "code",
      "source": [
        "response = sequence_chain({'subject' : 'Computer Science'})"
      ],
      "metadata": {
        "id": "NKaVJufjwChw"
      },
      "execution_count": 44,
      "outputs": []
    },
    {
      "cell_type": "code",
      "source": [
        "response"
      ],
      "metadata": {
        "colab": {
          "base_uri": "https://localhost:8080/"
        },
        "id": "3tj43tMywrOg",
        "outputId": "f28bd5af-c883-4e55-b21e-6e3134aea2b6"
      },
      "execution_count": 45,
      "outputs": [
        {
          "output_type": "execute_result",
          "data": {
            "text/plain": [
              "{'subject': 'Computer Science',\n",
              " 'topic': 'Okay, here are 3 blog topics about Computer Science, aimed at different audiences and with varying levels of technical depth:\\n\\n1.  **Topic: \"From Zero to Hero: Your First Steps in Python (and Why You Should Take Them)\"**\\n\\n    *   **Target Audience:** Beginners, people curious about programming, those looking for a career change.\\n    *   **Focus:** This blog post would be a beginner-friendly introduction to Python. It would cover:\\n        *   Why Python is a good first language (easy syntax, large community, versatile).\\n        *   A simple \"Hello, World!\" example.\\n        *   Basic data types (strings, numbers, booleans).\\n        *   Simple input/output.\\n        *   Where to find resources (online courses, tutorials, communities).\\n        *   A small, fun project to encourage learning (e.g., a simple calculator or a text-based adventure game).\\n    *   **Why it\\'s good:** It\\'s approachable, practical, and answers the common question of \"where do I start?\"  It also provides a clear path for continued learning.\\n\\n2.  **Topic: \"Demystifying Machine Learning: A Look at Common Algorithms and Their Real-World Applications\"**\\n\\n    *   **Target Audience:** Students with some programming experience, professionals in related fields (data analysis, business intelligence), or anyone with a general interest in AI.\\n    *   **Focus:** This blog post would provide a high-level overview of machine learning, avoiding overly complex math but still explaining the core concepts. It would cover:\\n        *   What machine learning is (and isn\\'t).\\n        *   Different types of machine learning (supervised, unsupervised, reinforcement learning).\\n        *   Examples of common algorithms:\\n            *   Linear Regression (predicting numerical values).\\n            *   Logistic Regression (classification).\\n            *   Decision Trees (easy to understand models).\\n            *   K-Means Clustering (grouping data).\\n        *   Real-world applications of each algorithm (e.g., fraud detection, recommendation systems, image recognition).\\n        *   The importance of data and model evaluation.\\n    *   **Why it\\'s good:** It bridges the gap between the hype surrounding machine learning and the actual practical applications. It gives readers a solid understanding of the different tools available and how they\\'re used.\\n\\n3.  **Topic: \"The Future of Quantum Computing: Challenges and Opportunities for Computer Scientists\"**\\n\\n    *   **Target Audience:** Computer science students, researchers, software engineers, and those with a strong technical background.\\n    *   **Focus:**  This blog post would explore the potential of quantum computing and the challenges that need to be overcome. It would cover:\\n        *   A brief explanation of quantum mechanics and how it relates to computing (qubits, superposition, entanglement).\\n        *   Current state of quantum computing hardware (different qubit technologies, limitations in scalability).\\n        *   Quantum algorithms (Shor\\'s algorithm, Grover\\'s algorithm) and their potential impact.\\n        *   Challenges in quantum software development (quantum programming languages, error correction).\\n        *   The ethical considerations of quantum computing (cryptography, data privacy).\\n        *   Opportunities for computer scientists to contribute to the field (algorithm design, software development, hardware optimization).\\n    *   **Why it\\'s good:** It tackles a cutting-edge topic that has the potential to revolutionize computer science. It highlights the important challenges that need to be addressed and encourages readers to consider contributing to this exciting field.\\n\\nI tried to provide a range of topics in terms of audience and complexity.  Let me know if you\\'d like me to refine any of these or brainstorm more!',\n",
              " 'detail': 'Okay, great! Let\\'s write a detailed blog post based on the first topic:\\n\\n## From Zero to Hero: Your First Steps in Python (and Why You Should Take Them)\\n\\n**(Image: A visually appealing image showing code on a screen, maybe with a snake (python) subtly incorporated, or someone happily coding on a laptop.)**\\n\\nSo, you\\'re thinking about learning to code? Maybe you\\'re dreaming of building your own app, automating tedious tasks, or just understanding the tech that surrounds you. If so, you\\'ve landed in the right place!  And if you\\'re wondering where to start, I\\'m here to tell you why **Python** is an excellent choice for your first programming language.\\n\\n**Why Python? The Beginner-Friendly Superstar**\\n\\nThere are tons of programming languages out there, so why Python? Here are a few compelling reasons:\\n\\n*   **Easy to Read (and Write!):** Python\\'s syntax is designed to be clear and readable, almost like plain English.  This means less time wrestling with cryptic symbols and more time understanding the core logic of your code.\\n*   **Huge Community, Endless Resources:**  Stuck on a problem? Don\\'t worry! Python has a massive and incredibly supportive community.  There are tons of online forums, tutorials, and libraries available to help you every step of the way.\\n*   **Versatility is Key:**  Python isn\\'t just for beginners.  It\\'s a powerful language used in everything from web development and data science to machine learning and game development.  Learning Python opens doors to a wide range of career paths and personal projects.\\n*   **It\\'s Fun!**  Seriously. Python\\'s simplicity and versatility make it a joy to work with.  You\\'ll be surprised how quickly you can start building cool things.\\n\\n**Hello, World! Your First Line of Code**\\n\\nLet\\'s dive in with the traditional \"Hello, World!\" program. This simple program will print the phrase \"Hello, World!\" to your screen.  Here\\'s the Python code:\\n\\n```python\\nprint(\"Hello, World!\")\\n```\\n\\nThat\\'s it!  Now, let\\'s break down how to run this:\\n\\n1.  **Install Python:**  First, you need to install Python on your computer.  Head over to the official Python website ([https://www.python.org/downloads/](https://www.python.org/downloads/)) and download the latest version for your operating system.\\n2.  **Find a Code Editor:** You\\'ll need a text editor to write your code.  Some popular options include:\\n    *   **VS Code (Visual Studio Code):**  A free and powerful editor with excellent Python support. ([https://code.visualstudio.com/](https://code.visualstudio.com/))\\n    *   **Sublime Text:** Another popular choice, known for its speed and customizability. ([https://www.sublimetext.com/](https://www.sublimetext.com/))\\n    *   **IDLE:**  A basic editor that comes bundled with Python.  Good for getting started.\\n3.  **Write and Save:** Open your code editor and type in the code above.  Save the file with a `.py` extension (e.g., `hello.py`).\\n4.  **Run from the Command Line:** Open your command prompt or terminal.  Navigate to the directory where you saved your file using the `cd` command (e.g., `cd Documents/PythonProjects`).  Then, run the program by typing `python hello.py` and pressing Enter.\\n\\nIf all goes well, you should see \"Hello, World!\" printed on your screen. Congratulations! You\\'ve written and run your first Python program!\\n\\n**Basic Building Blocks: Data Types**\\n\\nNow that you\\'ve got the basics down, let\\'s look at some fundamental data types in Python:\\n\\n*   **Strings:**  Text enclosed in single or double quotes.  For example: `\"Hello\"`, `\\'Python\\'`.\\n*   **Numbers:**\\n    *   **Integers:** Whole numbers (e.g., `10`, `-5`, `0`).\\n    *   **Floats:**  Numbers with decimal points (e.g., `3.14`, `-2.5`).\\n*   **Booleans:**  Represent truth values: `True` or `False`.\\n\\nHere\\'s how you can use these data types in Python:\\n\\n```python\\nmy_name = \"Alice\"  # String\\nage = 30  # Integer\\nheight = 5.8  # Float\\nis_student = False  # Boolean\\n\\nprint(my_name)\\nprint(age)\\nprint(height)\\nprint(is_student)\\n```\\n\\n**Taking Input and Giving Output**\\n\\nLet\\'s make our program a little more interactive.  We can use the `input()` function to get input from the user and the `print()` function to display output:\\n\\n```python\\nname = input(\"What is your name? \")\\nprint(\"Hello, \" + name + \"!\")\\n\\nage = input(\"How old are you? \")\\nprint(\"You are \" + age + \" years old.\")\\n```\\n\\nThis code will ask the user for their name and age, and then print a personalized greeting.  Note that the `input()` function always returns a string, so if you need to work with numbers, you\\'ll need to convert the input using `int()` or `float()`.\\n\\n**Your First Mini-Project: A Simple Calculator**\\n\\nLet\\'s put your new skills to the test with a small project: a simple calculator that adds two numbers.\\n\\n```python\\nnum1 = float(input(\"Enter the first number: \"))\\nnum2 = float(input(\"Enter the second number: \"))\\n\\nsum = num1 + num2\\n\\nprint(\"The sum is:\", sum)\\n```\\n\\nThis program asks the user for two numbers, converts them to floats (to handle decimal values), adds them together, and then prints the result.\\n\\n**Where to Go From Here: Your Learning Journey**\\n\\nCongratulations on taking your first steps in Python!  Here are some resources to help you continue your journey:\\n\\n*   **Online Courses:**\\n    *   **Codecademy:** Offers interactive Python courses for beginners. ([https://www.codecademy.com/learn/learn-python-3](https://www.codecademy.com/learn/learn-python-3))\\n    *   **Coursera and edX:**  Platforms with university-level Python courses.\\n    *   **Udemy:** A vast collection of Python courses, often with discounted prices.\\n*   **Tutorials:**\\n    *   **The Official Python Tutorial:**  A comprehensive guide from the Python Software Foundation. ([https://docs.python.org/3/tutorial/](https://docs.python.org/3/tutorial/))\\n    *   **Real Python:**  A website with tons of practical Python tutorials. ([https://realpython.com/](https://realpython.com/))\\n*   **Communities:**\\n    *   **Stack Overflow:** A Q&A website where you can ask for help with your code.\\n    *   **Reddit (r/learnpython):**  A subreddit dedicated to learning Python.\\n    *   **Python Discord Servers:**  Many active Discord communities where you can chat with other Python learners.\\n\\n**Keep Practicing!**\\n\\nThe key to learning any programming language is practice.  Don\\'t be afraid to experiment, make mistakes, and ask questions.  Start with small projects and gradually increase the complexity.  The more you code, the more comfortable you\\'ll become.\\n\\nPython is a powerful and versatile language that can open up a world of possibilities.  So, take that first step, embrace the challenge, and enjoy the journey!  Happy coding!\\n\\n**(Call to Action: Encourage readers to leave comments with their first Python projects or questions.)**'}"
            ]
          },
          "metadata": {},
          "execution_count": 45
        }
      ]
    },
    {
      "cell_type": "code",
      "source": [
        "from IPython.display import display, Markdown"
      ],
      "metadata": {
        "id": "DWwxaSzO0-ei"
      },
      "execution_count": 46,
      "outputs": []
    },
    {
      "cell_type": "code",
      "source": [
        "display(Markdown(response['detail']))"
      ],
      "metadata": {
        "colab": {
          "base_uri": "https://localhost:8080/",
          "height": 1000
        },
        "id": "YWytomxA1WuM",
        "outputId": "f47d0e7a-7ae0-43f2-e6a3-6db7d255fced"
      },
      "execution_count": 48,
      "outputs": [
        {
          "output_type": "display_data",
          "data": {
            "text/plain": [
              "<IPython.core.display.Markdown object>"
            ],
            "text/markdown": "Okay, great! Let's write a detailed blog post based on the first topic:\n\n## From Zero to Hero: Your First Steps in Python (and Why You Should Take Them)\n\n**(Image: A visually appealing image showing code on a screen, maybe with a snake (python) subtly incorporated, or someone happily coding on a laptop.)**\n\nSo, you're thinking about learning to code? Maybe you're dreaming of building your own app, automating tedious tasks, or just understanding the tech that surrounds you. If so, you've landed in the right place!  And if you're wondering where to start, I'm here to tell you why **Python** is an excellent choice for your first programming language.\n\n**Why Python? The Beginner-Friendly Superstar**\n\nThere are tons of programming languages out there, so why Python? Here are a few compelling reasons:\n\n*   **Easy to Read (and Write!):** Python's syntax is designed to be clear and readable, almost like plain English.  This means less time wrestling with cryptic symbols and more time understanding the core logic of your code.\n*   **Huge Community, Endless Resources:**  Stuck on a problem? Don't worry! Python has a massive and incredibly supportive community.  There are tons of online forums, tutorials, and libraries available to help you every step of the way.\n*   **Versatility is Key:**  Python isn't just for beginners.  It's a powerful language used in everything from web development and data science to machine learning and game development.  Learning Python opens doors to a wide range of career paths and personal projects.\n*   **It's Fun!**  Seriously. Python's simplicity and versatility make it a joy to work with.  You'll be surprised how quickly you can start building cool things.\n\n**Hello, World! Your First Line of Code**\n\nLet's dive in with the traditional \"Hello, World!\" program. This simple program will print the phrase \"Hello, World!\" to your screen.  Here's the Python code:\n\n```python\nprint(\"Hello, World!\")\n```\n\nThat's it!  Now, let's break down how to run this:\n\n1.  **Install Python:**  First, you need to install Python on your computer.  Head over to the official Python website ([https://www.python.org/downloads/](https://www.python.org/downloads/)) and download the latest version for your operating system.\n2.  **Find a Code Editor:** You'll need a text editor to write your code.  Some popular options include:\n    *   **VS Code (Visual Studio Code):**  A free and powerful editor with excellent Python support. ([https://code.visualstudio.com/](https://code.visualstudio.com/))\n    *   **Sublime Text:** Another popular choice, known for its speed and customizability. ([https://www.sublimetext.com/](https://www.sublimetext.com/))\n    *   **IDLE:**  A basic editor that comes bundled with Python.  Good for getting started.\n3.  **Write and Save:** Open your code editor and type in the code above.  Save the file with a `.py` extension (e.g., `hello.py`).\n4.  **Run from the Command Line:** Open your command prompt or terminal.  Navigate to the directory where you saved your file using the `cd` command (e.g., `cd Documents/PythonProjects`).  Then, run the program by typing `python hello.py` and pressing Enter.\n\nIf all goes well, you should see \"Hello, World!\" printed on your screen. Congratulations! You've written and run your first Python program!\n\n**Basic Building Blocks: Data Types**\n\nNow that you've got the basics down, let's look at some fundamental data types in Python:\n\n*   **Strings:**  Text enclosed in single or double quotes.  For example: `\"Hello\"`, `'Python'`.\n*   **Numbers:**\n    *   **Integers:** Whole numbers (e.g., `10`, `-5`, `0`).\n    *   **Floats:**  Numbers with decimal points (e.g., `3.14`, `-2.5`).\n*   **Booleans:**  Represent truth values: `True` or `False`.\n\nHere's how you can use these data types in Python:\n\n```python\nmy_name = \"Alice\"  # String\nage = 30  # Integer\nheight = 5.8  # Float\nis_student = False  # Boolean\n\nprint(my_name)\nprint(age)\nprint(height)\nprint(is_student)\n```\n\n**Taking Input and Giving Output**\n\nLet's make our program a little more interactive.  We can use the `input()` function to get input from the user and the `print()` function to display output:\n\n```python\nname = input(\"What is your name? \")\nprint(\"Hello, \" + name + \"!\")\n\nage = input(\"How old are you? \")\nprint(\"You are \" + age + \" years old.\")\n```\n\nThis code will ask the user for their name and age, and then print a personalized greeting.  Note that the `input()` function always returns a string, so if you need to work with numbers, you'll need to convert the input using `int()` or `float()`.\n\n**Your First Mini-Project: A Simple Calculator**\n\nLet's put your new skills to the test with a small project: a simple calculator that adds two numbers.\n\n```python\nnum1 = float(input(\"Enter the first number: \"))\nnum2 = float(input(\"Enter the second number: \"))\n\nsum = num1 + num2\n\nprint(\"The sum is:\", sum)\n```\n\nThis program asks the user for two numbers, converts them to floats (to handle decimal values), adds them together, and then prints the result.\n\n**Where to Go From Here: Your Learning Journey**\n\nCongratulations on taking your first steps in Python!  Here are some resources to help you continue your journey:\n\n*   **Online Courses:**\n    *   **Codecademy:** Offers interactive Python courses for beginners. ([https://www.codecademy.com/learn/learn-python-3](https://www.codecademy.com/learn/learn-python-3))\n    *   **Coursera and edX:**  Platforms with university-level Python courses.\n    *   **Udemy:** A vast collection of Python courses, often with discounted prices.\n*   **Tutorials:**\n    *   **The Official Python Tutorial:**  A comprehensive guide from the Python Software Foundation. ([https://docs.python.org/3/tutorial/](https://docs.python.org/3/tutorial/))\n    *   **Real Python:**  A website with tons of practical Python tutorials. ([https://realpython.com/](https://realpython.com/))\n*   **Communities:**\n    *   **Stack Overflow:** A Q&A website where you can ask for help with your code.\n    *   **Reddit (r/learnpython):**  A subreddit dedicated to learning Python.\n    *   **Python Discord Servers:**  Many active Discord communities where you can chat with other Python learners.\n\n**Keep Practicing!**\n\nThe key to learning any programming language is practice.  Don't be afraid to experiment, make mistakes, and ask questions.  Start with small projects and gradually increase the complexity.  The more you code, the more comfortable you'll become.\n\nPython is a powerful and versatile language that can open up a world of possibilities.  So, take that first step, embrace the challenge, and enjoy the journey!  Happy coding!\n\n**(Call to Action: Encourage readers to leave comments with their first Python projects or questions.)**"
          },
          "metadata": {}
        }
      ]
    },
    {
      "cell_type": "markdown",
      "source": [
        "# Tool"
      ],
      "metadata": {
        "id": "KA0tOKrE3And"
      }
    },
    {
      "cell_type": "code",
      "source": [
        "from langchain.agents import load_tools, initialize_agent"
      ],
      "metadata": {
        "id": "KGpjAakZ3LOj"
      },
      "execution_count": 49,
      "outputs": []
    },
    {
      "cell_type": "code",
      "source": [
        "tools = load_tools(['llm-math'], llm = llm)"
      ],
      "metadata": {
        "id": "d-ZjlOXu3HXM"
      },
      "execution_count": 50,
      "outputs": []
    },
    {
      "cell_type": "code",
      "source": [
        "agent = initialize_agent(\n",
        "    tools = tools,\n",
        "    llm = llm,\n",
        "    agent = 'zero-shot-react-description',\n",
        "    verbose = True\n",
        ")"
      ],
      "metadata": {
        "colab": {
          "base_uri": "https://localhost:8080/"
        },
        "id": "MT4s9br4G13E",
        "outputId": "c372e3a8-2183-4c7d-c953-747a92c04037"
      },
      "execution_count": 51,
      "outputs": [
        {
          "output_type": "stream",
          "name": "stderr",
          "text": [
            "/tmp/ipython-input-2794426849.py:1: LangChainDeprecationWarning: LangChain agents will continue to be supported, but it is recommended for new use cases to be built with LangGraph. LangGraph offers a more flexible and full-featured framework for building agents, including support for tool-calling, persistence of state, and human-in-the-loop workflows. For details, refer to the `LangGraph documentation <https://langchain-ai.github.io/langgraph/>`_ as well as guides for `Migrating from AgentExecutor <https://python.langchain.com/docs/how_to/migrate_agent/>`_ and LangGraph's `Pre-built ReAct agent <https://langchain-ai.github.io/langgraph/how-tos/create-react-agent/>`_.\n",
            "  agent = initialize_agent(\n"
          ]
        }
      ]
    },
    {
      "cell_type": "code",
      "source": [
        "math_response = agent.run(\"What is multiplied by the quotient of 256 divide by square root of 1024 multiplied with cube of 78\")"
      ],
      "metadata": {
        "colab": {
          "base_uri": "https://localhost:8080/"
        },
        "id": "-1O85Fi8J-Wn",
        "outputId": "33451eaa-9c91-49d3-95df-1a3c17f5119a"
      },
      "execution_count": 52,
      "outputs": [
        {
          "output_type": "stream",
          "name": "stdout",
          "text": [
            "\n",
            "\n",
            "\u001b[1m> Entering new AgentExecutor chain...\u001b[0m\n",
            "\u001b[32;1m\u001b[1;3mI need to break this problem down into smaller parts and use the calculator to get the final answer. First, I need to find the square root of 1024, then divide 256 by that result. Then, I need to cube 78. After that, I need to multiply the quotient from the division by the cube of 78. Finally, I need to determine what is multiplied by that entire result. Since the original question is incomplete, I will assume that the number multiplied by the quotient is 1.\n",
            "\n",
            "Action: Calculator\n",
            "Action Input: sqrt(1024)\u001b[0m\n",
            "Observation: \u001b[36;1m\u001b[1;3mAnswer: 32.0\u001b[0m\n",
            "Thought:\u001b[32;1m\u001b[1;3mNow I need to divide 256 by 32.\n",
            "\n",
            "Action: Calculator\n",
            "Action Input: 256 / 32\u001b[0m\n",
            "Observation: \u001b[36;1m\u001b[1;3mAnswer: 8.0\u001b[0m\n",
            "Thought:\u001b[32;1m\u001b[1;3mNow I need to calculate the cube of 78.\n",
            "\n",
            "Action: Calculator\n",
            "Action Input: 78**3\u001b[0m\n",
            "Observation: \u001b[36;1m\u001b[1;3mAnswer: 474552\u001b[0m\n",
            "Thought:\u001b[32;1m\u001b[1;3mNow I need to multiply the quotient (8) by the cube of 78 (474552).\n",
            "\n",
            "Action: Calculator\n",
            "Action Input: 8 * 474552\u001b[0m\n",
            "Observation: \u001b[36;1m\u001b[1;3mAnswer: 3796416\u001b[0m\n",
            "Thought:\u001b[32;1m\u001b[1;3mI have calculated the quotient of 256 divided by the square root of 1024, which is 8. I have also calculated the cube of 78, which is 474552. I then multiplied these two results together, which gave me 3796416. The question asks \"What is multiplied by the quotient of 256 divide by square root of 1024 multiplied with cube of 78\", which is incomplete. I am going to assume the question is \"What is 1 multiplied by the quotient of 256 divide by square root of 1024 multiplied with cube of 78\". Therefore the answer is 3796416.\n",
            "\n",
            "Final Answer: 3796416\u001b[0m\n",
            "\n",
            "\u001b[1m> Finished chain.\u001b[0m\n"
          ]
        }
      ]
    }
  ]
}